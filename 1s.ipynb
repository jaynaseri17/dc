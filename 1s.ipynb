{
 "cells": [
  {
   "cell_type": "code",
   "execution_count": null,
   "id": "f6546782-2a15-47e2-9399-b16a5e53e572",
   "metadata": {},
   "outputs": [
    {
     "name": "stdout",
     "output_type": "stream",
     "text": [
      "Server listening on port 8000...\n"
     ]
    },
    {
     "name": "stderr",
     "output_type": "stream",
     "text": [
      "127.0.0.1 - - [04/May/2025 17:46:44] \"POST /RPC2 HTTP/1.1\" 200 -\n",
      "127.0.0.1 - - [04/May/2025 17:47:00] \"POST /RPC2 HTTP/1.1\" 200 -\n",
      "127.0.0.1 - - [04/May/2025 17:47:16] \"POST /RPC2 HTTP/1.1\" 200 -\n",
      "127.0.0.1 - - [04/May/2025 17:47:46] \"POST /RPC2 HTTP/1.1\" 200 -\n"
     ]
    }
   ],
   "source": [
    "from xmlrpc.server import SimpleXMLRPCServer\n",
    "\n",
    "\n",
    "def compute_factorial(n):\n",
    "    if n == 0 or n == 1:\n",
    "        return 1\n",
    "    else:\n",
    "        return n * compute_factorial(n - 1)\n",
    "\n",
    "\n",
    "\n",
    "server = SimpleXMLRPCServer((\"localhost\", 8000))\n",
    "print(\"Server listening on port 8000...\")\n",
    "server.register_function(compute_factorial, \"compute_factorial\")\n",
    "server.serve_forever()"
   ]
  },
  {
   "cell_type": "code",
   "execution_count": null,
   "id": "846e2191-6c9b-41b4-9990-59a2c0f9f21d",
   "metadata": {},
   "outputs": [],
   "source": []
  }
 ],
 "metadata": {
  "kernelspec": {
   "display_name": "Python 3 (ipykernel)",
   "language": "python",
   "name": "python3"
  },
  "language_info": {
   "codemirror_mode": {
    "name": "ipython",
    "version": 3
   },
   "file_extension": ".py",
   "mimetype": "text/x-python",
   "name": "python",
   "nbconvert_exporter": "python",
   "pygments_lexer": "ipython3",
   "version": "3.12.7"
  }
 },
 "nbformat": 4,
 "nbformat_minor": 5
}
