{
 "cells": [
  {
   "cell_type": "code",
   "execution_count": 1,
   "id": "cd3418de-40b1-45ed-be73-bb47f79dd1cc",
   "metadata": {},
   "outputs": [
    {
     "name": "stdin",
     "output_type": "stream",
     "text": [
      "Enter the server's URI:  PYRO:obj_d1bb560f853c4ed08598b7f9fcbc9f19@localhost:49704\n",
      "Enter the first string:  cater\n",
      "Enter the second string:  pillar\n"
     ]
    },
    {
     "name": "stdout",
     "output_type": "stream",
     "text": [
      "Concatenated string: caterpillar\n"
     ]
    }
   ],
   "source": [
    "import Pyro4\n",
    "\n",
    "\n",
    "def main():\n",
    "    uri = input(\"Enter the server's URI: \")\n",
    "\n",
    "    concatenator = Pyro4.Proxy(uri)\n",
    "\n",
    "    str1 = input(\"Enter the first string: \")\n",
    "    str2 = input(\"Enter the second string: \")\n",
    "\n",
    "    result = concatenator.concatenate(str1,str2)\n",
    "\n",
    "    print(\"Concatenated string:\", result)\n",
    "\n",
    "\n",
    "if __name__ == \"__main__\":\n",
    "    main()"
   ]
  },
  {
   "cell_type": "code",
   "execution_count": null,
   "id": "05184b63-aab5-4a11-88da-077706b56d12",
   "metadata": {},
   "outputs": [],
   "source": []
  }
 ],
 "metadata": {
  "kernelspec": {
   "display_name": "Python 3 (ipykernel)",
   "language": "python",
   "name": "python3"
  },
  "language_info": {
   "codemirror_mode": {
    "name": "ipython",
    "version": 3
   },
   "file_extension": ".py",
   "mimetype": "text/x-python",
   "name": "python",
   "nbconvert_exporter": "python",
   "pygments_lexer": "ipython3",
   "version": "3.12.7"
  }
 },
 "nbformat": 4,
 "nbformat_minor": 5
}
