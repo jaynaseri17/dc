{
 "cells": [
  {
   "cell_type": "code",
   "execution_count": null,
   "id": "5d2a47e3-958d-443d-a6a1-10d08352fab5",
   "metadata": {},
   "outputs": [
    {
     "name": "stdout",
     "output_type": "stream",
     "text": [
      "Server URI: PYRO:obj_d1bb560f853c4ed08598b7f9fcbc9f19@localhost:49704\n",
      "Server is ready. Waiting for requests...\n"
     ]
    }
   ],
   "source": [
    "import Pyro4\n",
    "\n",
    "\n",
    "class StringConcatenator:\n",
    "    @Pyro4.expose\n",
    "    def concatenate(self, str1, str2):\n",
    "        return str1 + str2\n",
    "\n",
    "\n",
    "def start_server():\n",
    "    concatenator = StringConcatenator()\n",
    "\n",
    "    daemon = Pyro4.Daemon()\n",
    "    uri = daemon.register(concatenator)\n",
    "\n",
    "    print(\"Server URI:\", uri)\n",
    "\n",
    "    print(\"Server is ready. Waiting for requests...\")\n",
    "    daemon.requestLoop()\n",
    "\n",
    "\n",
    "if __name__ == \"__main__\":\n",
    "    start_server()"
   ]
  },
  {
   "cell_type": "code",
   "execution_count": null,
   "id": "92d083ff-6fab-4c52-8662-3fe6b3c74d81",
   "metadata": {},
   "outputs": [],
   "source": []
  }
 ],
 "metadata": {
  "kernelspec": {
   "display_name": "Python 3 (ipykernel)",
   "language": "python",
   "name": "python3"
  },
  "language_info": {
   "codemirror_mode": {
    "name": "ipython",
    "version": 3
   },
   "file_extension": ".py",
   "mimetype": "text/x-python",
   "name": "python",
   "nbconvert_exporter": "python",
   "pygments_lexer": "ipython3",
   "version": "3.12.7"
  }
 },
 "nbformat": 4,
 "nbformat_minor": 5
}
