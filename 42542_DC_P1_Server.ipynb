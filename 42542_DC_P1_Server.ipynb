{
 "cells": [
  {
   "cell_type": "code",
   "execution_count": null,
   "id": "e670ef45-9830-4e0e-889c-47b7c7d98500",
   "metadata": {},
   "outputs": [],
   "source": [
    "from xmlrpc.server import SimpleXMLRPCServer"
   ]
  },
  {
   "cell_type": "code",
   "execution_count": null,
   "id": "2030d9fb-b044-4fae-af94-42489d02016a",
   "metadata": {},
   "outputs": [],
   "source": [
    "def compute_factorial(n):\n",
    "    if n == 0 or n == 1:\n",
    "        return 1\n",
    "    else:\n",
    "        return n * compute_factorial(n - 1)"
   ]
  },
  {
   "cell_type": "code",
   "execution_count": null,
   "id": "3693d72a-a45d-4d27-91d1-d4d89f02833f",
   "metadata": {},
   "outputs": [],
   "source": [
    "server = SimpleXMLRPCServer((\"localhost\", 8000))\n",
    "print(\"Server listening on port 8000...\")\n",
    "server.register_function(compute_factorial, \"compute_factorial\")\n",
    "server.serve_forever()"
   ]
  },
  {
   "cell_type": "code",
   "execution_count": null,
   "id": "a5e1d461-be62-42be-b41d-4e10789138f5",
   "metadata": {},
   "outputs": [],
   "source": []
  }
 ],
 "metadata": {
  "kernelspec": {
   "display_name": "Python 3 (ipykernel)",
   "language": "python",
   "name": "python3"
  },
  "language_info": {
   "name": ""
  }
 },
 "nbformat": 4,
 "nbformat_minor": 5
}
