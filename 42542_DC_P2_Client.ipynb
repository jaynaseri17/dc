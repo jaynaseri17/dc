{
 "cells": [
  {
   "cell_type": "code",
   "execution_count": null,
   "id": "d2d0cceb-0200-4cb3-8fff-8ec5a7956c86",
   "metadata": {},
   "outputs": [],
   "source": [
    "import Pyro4\n",
    "\n",
    "\n",
    "def main():\n",
    "    uri = input(\"Enter the server's URI: \")\n",
    "\n",
    "    concatenator = Pyro4.Proxy(uri)\n",
    "\n",
    "    str1 = input(\"Enter the first string: \")\n",
    "    str2 = input(\"Enter the second string: \")\n",
    "\n",
    "    result = concatenator.concatenate(str1, str2)\n",
    "\n",
    "    print(\"Concatenated string:\", result)\n",
    "\n",
    "\n",
    "if __name__ == \"__main__\":\n",
    "    main()"
   ]
  }
 ],
 "metadata": {
  "kernelspec": {
   "display_name": "Python 3 (ipykernel)",
   "language": "python",
   "name": "python3"
  },
  "language_info": {
   "codemirror_mode": {
    "name": "ipython",
    "version": 3
   },
   "file_extension": ".py",
   "mimetype": "text/x-python",
   "name": "python",
   "nbconvert_exporter": "python",
   "pygments_lexer": "ipython3",
   "version": "3.12.7"
  }
 },
 "nbformat": 4,
 "nbformat_minor": 5
}
