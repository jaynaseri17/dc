{
 "cells": [
  {
   "cell_type": "code",
   "execution_count": 10,
   "id": "91b6c222-f1d3-4c5b-809e-0d1e798754e2",
   "metadata": {},
   "outputs": [
    {
     "name": "stdout",
     "output_type": "stream",
     "text": [
      "{'time': '02-01-1990', 'tavg': '22.2', 'tmin': '16.5', 'tmax': '29.9', 'prcp': '0'}\n",
      "Hottest Year: 2015 with Avg Max Temp: 33.41°C\n",
      "Coolest Year: 1997 with Avg Min Temp: 21.04°C\n"
     ]
    }
   ],
   "source": [
    "import csv \n",
    "from datetime import datetime \n",
    "from collections import defaultdict \n",
    "\n",
    "\n",
    "#mapper function : Extract year and temperatures \n",
    "\n",
    "def mapper(rows):\n",
    "    map_data = []\n",
    "    for row in rows:\n",
    "        try:\n",
    "            year = datetime.strptime(row[\"time\"], \"%d-%m-%Y\").year\n",
    "            tmax = float(row[\"tmax\"])\n",
    "            tmin = float(row[\"tmin\"])\n",
    "            map_data.append((year, (tmax, tmin, 1)))\n",
    "        except:\n",
    "            continue\n",
    "    # print(\"map data :\",map_data)\n",
    "    return map_data\n",
    "\n",
    "# Shuffle: Group by year\n",
    "def shuffler(mapped_data):\n",
    "    shuffle_data = defaultdict(list)\n",
    "    for year, values in mapped_data:\n",
    "        shuffle_data[year].append(values)\n",
    "    return shuffle_data\n",
    "\n",
    "# Simulated Reducer\n",
    "def reducer(shuffle_data):\n",
    "    # print(\"shuffle data is \",shuffle_data)\n",
    "    hottest_year, coolest_year = None, None\n",
    "    highest_avg, lowest_avg = float(\"-inf\"), float(\"inf\")\n",
    "\n",
    "    for year, values in shuffle_data.items():\n",
    "        total_tmax = sum(v[0] for v in values)\n",
    "        total_tmin = sum(v[1] for v in values)\n",
    "        count = sum(v[2] for v in values)\n",
    "\n",
    "        avg_max = total_tmax / count\n",
    "        avg_min = total_tmin / count\n",
    "\n",
    "        if avg_max > highest_avg:\n",
    "            highest_avg = avg_max\n",
    "            hottest_year = year\n",
    "        if avg_min < lowest_avg:\n",
    "            lowest_avg = avg_min\n",
    "            coolest_year = year\n",
    "\n",
    "    return hottest_year, highest_avg, coolest_year, lowest_avg\n",
    "\n",
    "if __name__=='__main__':\n",
    "    with open(\"mumbai_weather.csv\", \"r\") as f:\n",
    "        reader = csv.DictReader(f)\n",
    "        rows = list(reader)\n",
    "    \n",
    "    print(rows[1])\n",
    "    \n",
    "    mapped_data=mapper(rows)\n",
    "    shuffle_data=shuffler(mapped_data)\n",
    "    hot_year, hot_temp, cool_year, cool_temp = reducer(shuffle_data)\n",
    "\n",
    "    print(f\"Hottest Year: {hot_year} with Avg Max Temp: {hot_temp:.2f}°C\")\n",
    "    print(f\"Coolest Year: {cool_year} with Avg Min Temp: {cool_temp:.2f}°C\")"
   ]
  },
  {
   "cell_type": "code",
   "execution_count": null,
   "id": "cc79e22c-0df0-4450-b023-16460028011a",
   "metadata": {},
   "outputs": [],
   "source": []
  }
 ],
 "metadata": {
  "kernelspec": {
   "display_name": "Python 3 (ipykernel)",
   "language": "python",
   "name": "python3"
  },
  "language_info": {
   "codemirror_mode": {
    "name": "ipython",
    "version": 3
   },
   "file_extension": ".py",
   "mimetype": "text/x-python",
   "name": "python",
   "nbconvert_exporter": "python",
   "pygments_lexer": "ipython3",
   "version": "3.12.7"
  }
 },
 "nbformat": 4,
 "nbformat_minor": 5
}
