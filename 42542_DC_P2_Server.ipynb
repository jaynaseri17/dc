{
 "cells": [
  {
   "cell_type": "code",
   "execution_count": null,
   "id": "0c53c1eb-f314-40e6-bd37-eadcd6e24e60",
   "metadata": {},
   "outputs": [],
   "source": [
    "import Pyro4\n",
    "\n",
    "\n",
    "class StringConcatenator:\n",
    "    @Pyro4.expose\n",
    "    def concatenate(self, str1, str2):\n",
    "        return str1 + str2\n",
    "\n",
    "\n",
    "def start_server():\n",
    "    concatenator = StringConcatenator()\n",
    "\n",
    "    daemon = Pyro4.Daemon()\n",
    "    uri = daemon.register(concatenator)\n",
    "\n",
    "    print(\"Server URI:\", uri)\n",
    "\n",
    "    print(\"Server is ready. Waiting for requests...\")\n",
    "    daemon.requestLoop()\n",
    "\n",
    "\n",
    "if __name__ == \"__main__\":\n",
    "    start_server()"
   ]
  }
 ],
 "metadata": {
  "kernelspec": {
   "display_name": "Python 3 (ipykernel)",
   "language": "python",
   "name": "python3"
  },
  "language_info": {
   "name": ""
  }
 },
 "nbformat": 4,
 "nbformat_minor": 5
}
