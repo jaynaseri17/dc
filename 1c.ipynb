{
 "cells": [
  {
   "cell_type": "code",
   "execution_count": 13,
   "id": "e19715c2-0a8d-431f-8826-72187296b9bb",
   "metadata": {},
   "outputs": [],
   "source": [
    "import xmlrpc.client"
   ]
  },
  {
   "cell_type": "code",
   "execution_count": 14,
   "id": "a7b56b1a-1d0a-4ede-8764-edd2d3379ec5",
   "metadata": {},
   "outputs": [],
   "source": [
    "server = xmlrpc.client.ServerProxy(\"http://localhost:8000\")"
   ]
  },
  {
   "cell_type": "code",
   "execution_count": 15,
   "id": "0a6a4ec0-f551-46a5-b16f-84da7b76526d",
   "metadata": {},
   "outputs": [
    {
     "name": "stdin",
     "output_type": "stream",
     "text": [
      "Enter an integer to compute its factorial:  7\n"
     ]
    }
   ],
   "source": [
    "number = int(input(\"Enter an integer to compute its factorial: \"))"
   ]
  },
  {
   "cell_type": "code",
   "execution_count": 16,
   "id": "50f7943c-1559-49bf-9ea5-2b1a50503c48",
   "metadata": {},
   "outputs": [],
   "source": [
    "result = server.compute_factorial(number)"
   ]
  },
  {
   "cell_type": "code",
   "execution_count": 17,
   "id": "bb918433-140b-4b5a-8ebc-884da022bc3e",
   "metadata": {},
   "outputs": [
    {
     "name": "stdout",
     "output_type": "stream",
     "text": [
      "The factorial of 7 is 5040\n"
     ]
    }
   ],
   "source": [
    "print(f\"The factorial of {number} is {result}\")"
   ]
  },
  {
   "cell_type": "code",
   "execution_count": null,
   "id": "12ba3105-954a-4cd4-8db2-0b7997a967dd",
   "metadata": {},
   "outputs": [],
   "source": []
  }
 ],
 "metadata": {
  "kernelspec": {
   "display_name": "Python 3 (ipykernel)",
   "language": "python",
   "name": "python3"
  },
  "language_info": {
   "codemirror_mode": {
    "name": "ipython",
    "version": 3
   },
   "file_extension": ".py",
   "mimetype": "text/x-python",
   "name": "python",
   "nbconvert_exporter": "python",
   "pygments_lexer": "ipython3",
   "version": "3.12.7"
  }
 },
 "nbformat": 4,
 "nbformat_minor": 5
}
